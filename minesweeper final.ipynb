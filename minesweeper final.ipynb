{
 "cells": [
  {
   "cell_type": "code",
   "execution_count": 13,
   "metadata": {
    "collapsed": true
   },
   "outputs": [],
   "source": [
    "# import required modules\n",
    "import numpy as np\n",
    "import cv2\n",
    "from random import *"
   ]
  },
  {
   "cell_type": "code",
   "execution_count": 14,
   "metadata": {
    "collapsed": true
   },
   "outputs": [],
   "source": [
    "# initialise required parameters\n",
    "rows = 500\n",
    "cols = 500\n",
    "nrows = 10\n",
    "ncols = 10\n",
    "reveal = False\n",
    "bee = 9                 # bee or mines is present\n",
    "nobee = 11              # bee or mines is absent\n",
    "mouse_point = (-1,-1)   \n",
    "h = int(rows / nrows)\n",
    "w = int(cols / ncols)\n",
    "grid = np.ones((nrows, ncols))*nobee       #initailise grid with no bees or mines\n",
    "field = np.ones((rows,cols,3),np.uint8)*255\n",
    "font = cv2.FONT_HERSHEY_SIMPLEX\n",
    "pressed = False\n",
    "clicked = []                        #  for tracking points that are clicked"
   ]
  },
  {
   "cell_type": "code",
   "execution_count": 15,
   "metadata": {
    "collapsed": true
   },
   "outputs": [],
   "source": [
    "def click(event, x, y, flags, param):\n",
    "    global mouse_point, pressed\n",
    "    if event == cv2.EVENT_LBUTTONDOWN:\n",
    "        mouse_point = (x,y)\n",
    "        pressed = True\n",
    "\n",
    "cv2.namedWindow('field display')\n",
    "cv2.setMouseCallback('field display', click)\n",
    "\n",
    "class cell:\n",
    "    def __init__(self,grid,field):\n",
    "        self._grid = grid\n",
    "        self._field = field\n",
    "    def create_grid_with_bees(self):\n",
    "        count_bee = 0\n",
    "        while count_bee <10:\n",
    "            i = randint(0,9)\n",
    "            j = randint(0,9)\n",
    "            grid[i][j] = bee\n",
    "            count_bee += 1\n",
    "        print(self._grid)    \n",
    "        return count_bee\n",
    "    \n",
    "    def reveal_0(self,i,j):\n",
    "        for xoff in range(-1,2):\n",
    "            for yoff in range(-1,2):\n",
    "                i1 = i + xoff\n",
    "                j1 = j + yoff\n",
    "            \n",
    "                if i1>-1 and i1 < nrows and j1 > -1 and j1 < ncols and (i1,j1) not in clicked:\n",
    "                    clicked.append((i1,j1))\n",
    "                    cv2.rectangle(field,(j*w+1,i*h+1),(j*w+w-1,i*h+h-1),(128,128,128),-1)\n",
    "                    cv2.rectangle(field,(j1*w+1,i1*h+1),(j1*w+w-1,i1*h+h-1),(128,128,128),-1)\n",
    "                    if self.count(i1,j1) != 0:\n",
    "                        cv2.rectangle(field,(j1*w+1,i1*h+1),(j1*w+w-1,i1*h+h-1),(200,200,200),-1)\n",
    "                        cv2.putText(field,str(self.count(i1,j1)),(j1*w+int(w/2)-8,i1*h+int(h/2)+10), font, 0.8,(0,0,0),1,cv2.LINE_AA)\n",
    "                    else:\n",
    "                        self.reveal_0(i1,j1)\n",
    "        return\n",
    "    \n",
    "    def count(self,i,j):\n",
    "        coun = 0\n",
    "        for xoff in range(-1,2):\n",
    "            for yoff in range(-1,2):\n",
    "                i1 = i + xoff\n",
    "                j1 = j + yoff\n",
    "                if i1>-1 and i1 < nrows and j1 > -1 and j1 < ncols:\n",
    "                    if self._grid[i1][j1] == bee:\n",
    "                        coun = coun + 1\n",
    "        return coun\n",
    "    \n",
    "    def show(self):\n",
    "        if reveal == True:\n",
    "            for i in range(0,rows,h):\n",
    "                for j in range(0,cols,w):\n",
    "                    cv2.rectangle(field,(j+1,i+1),(j+w-1,i+h-1),(200,200,200),-1)\n",
    "                    if self._grid[i//h][j//w] == bee:\n",
    "                        cv2.circle(self._field,(j+int(h/2),i+int(w/2)),int(0.3*w),(0,0,0),-1)\n",
    "                    else:\n",
    "                        coun = self.count(i//h,j//w)\n",
    "                    \n",
    "                        if coun !=0:\n",
    "                            cv2.putText(self._field,str(coun),(j+int(w/2)-8,i+int(h/2)+10), font, 0.8,(0,0,0),1,cv2.LINE_AA)\n",
    "                        \n",
    "        else:\n",
    "            return\n",
    "    "
   ]
  },
  {
   "cell_type": "code",
   "execution_count": 16,
   "metadata": {},
   "outputs": [
    {
     "name": "stdout",
     "output_type": "stream",
     "text": [
      "[[11. 11. 11. 11. 11. 11. 11. 11. 11. 11.]\n",
      " [ 9. 11. 11. 11. 11. 11. 11. 11. 11. 11.]\n",
      " [11.  9.  9. 11. 11. 11. 11. 11. 11.  9.]\n",
      " [11. 11. 11. 11. 11. 11. 11. 11. 11. 11.]\n",
      " [11. 11. 11. 11.  9. 11. 11. 11. 11. 11.]\n",
      " [ 9. 11. 11. 11. 11. 11. 11. 11. 11. 11.]\n",
      " [11. 11. 11. 11.  9. 11. 11. 11. 11. 11.]\n",
      " [11.  9. 11.  9. 11. 11.  9. 11. 11. 11.]\n",
      " [11. 11. 11. 11. 11. 11. 11. 11. 11. 11.]\n",
      " [11. 11. 11. 11. 11. 11. 11. 11. 11. 11.]]\n"
     ]
    }
   ],
   "source": [
    "cel = cell(grid,field)\n",
    "count_bee = cel.create_grid_with_bees()\n",
    "\n",
    "for i in range(0,rows,w):\n",
    "    for j in range(0,cols,h):\n",
    "        cv2.rectangle(field,(j,i),(j+h,i+w),(20,20,20),1)\n",
    "\n",
    "while(True):\n",
    "    \n",
    "    if pressed == True and len(clicked) != nrows*ncols - count_bee and reveal == False: \n",
    "        j= mouse_point[0]//w\n",
    "        i= mouse_point[1]//h\n",
    "        if (i,j) not in clicked:\n",
    "            clicked.append((i,j))\n",
    "            if grid[i][j] == bee:\n",
    "                reveal = True\n",
    "                cel.show()\n",
    "                cv2.putText(field,'You Lose',(int(rows/2)-100,int(cols/2)), font, 2,(0,0,0),4,cv2.LINE_AA)\n",
    "            else:\n",
    "                coun = cel.count(i,j)\n",
    "                if coun==0:\n",
    "                    cel.reveal_0(i,j)\n",
    "                else:\n",
    "                    cv2.rectangle(field,(j*w+1,i*h+1),(j*w+w-1,i*h+h-1),(200,200,200),-1)\n",
    "                    cv2.putText(field,str(coun),(j*w+int(w/2)-8,i*h+int(h/2)+10), font, 0.8,(0,0,0),1,cv2.LINE_AA)\n",
    "                    \n",
    "        pressed = False\n",
    "    \n",
    "    cv2.imshow('field display', field)    \n",
    "    if len(clicked) == nrows*ncols - count_bee:\n",
    "        cv2.putText(field,'You Win',(int(rows/2)-100,int(cols/2)), font, 2,(0,0,0),4,cv2.LINE_AA)\n",
    "         \n",
    "    if cv2.waitKey(1) == ord('q'):\n",
    "        break\n",
    "\n",
    "cv2.destroyAllWindows()\n"
   ]
  }
 ],
 "metadata": {
  "kernelspec": {
   "display_name": "Python 3",
   "language": "python",
   "name": "python3"
  },
  "language_info": {
   "codemirror_mode": {
    "name": "ipython",
    "version": 3
   },
   "file_extension": ".py",
   "mimetype": "text/x-python",
   "name": "python",
   "nbconvert_exporter": "python",
   "pygments_lexer": "ipython3",
   "version": "3.6.3"
  }
 },
 "nbformat": 4,
 "nbformat_minor": 2
}
